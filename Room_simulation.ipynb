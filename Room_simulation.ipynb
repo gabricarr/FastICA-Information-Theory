{
  "nbformat": 4,
  "nbformat_minor": 0,
  "metadata": {
    "colab": {
      "provenance": []
    },
    "kernelspec": {
      "name": "python3",
      "display_name": "Python 3"
    },
    "language_info": {
      "name": "python"
    }
  },
  "cells": [
    {
      "cell_type": "markdown",
      "source": [
        "# IMPORTING LIB"
      ],
      "metadata": {
        "id": "ikaVTtkJu0NT"
      }
    },
    {
      "cell_type": "code",
      "execution_count": 9,
      "metadata": {
        "colab": {
          "base_uri": "https://localhost:8080/"
        },
        "id": "3i31ptdNupv7",
        "outputId": "99a04a4c-ef4a-4494-db88-c43604d7769a"
      },
      "outputs": [
        {
          "output_type": "stream",
          "name": "stdout",
          "text": [
            "Requirement already satisfied: pyroomacoustics in /usr/local/lib/python3.10/dist-packages (0.7.4)\n",
            "Requirement already satisfied: Cython in /usr/local/lib/python3.10/dist-packages (from pyroomacoustics) (3.0.10)\n",
            "Requirement already satisfied: numpy>=1.13.0 in /usr/local/lib/python3.10/dist-packages (from pyroomacoustics) (1.25.2)\n",
            "Requirement already satisfied: scipy>=0.18.0 in /usr/local/lib/python3.10/dist-packages (from pyroomacoustics) (1.11.4)\n",
            "Requirement already satisfied: pybind11>=2.2 in /usr/local/lib/python3.10/dist-packages (from pyroomacoustics) (2.12.0)\n",
            "Collecting samplerate\n",
            "  Using cached samplerate-0.2.1.tar.gz (21 kB)\n",
            "  Installing build dependencies ... \u001b[?25l\u001b[?25hdone\n",
            "  Getting requirements to build wheel ... \u001b[?25l\u001b[?25hdone\n",
            "  Installing backend dependencies ... \u001b[?25l\u001b[?25hdone\n",
            "  Preparing metadata (pyproject.toml) ... \u001b[?25l\u001b[?25hdone\n",
            "Requirement already satisfied: numpy in /usr/local/lib/python3.10/dist-packages (from samplerate) (1.25.2)\n",
            "Building wheels for collected packages: samplerate\n",
            "  \u001b[1;31merror\u001b[0m: \u001b[1msubprocess-exited-with-error\u001b[0m\n",
            "  \n",
            "  \u001b[31m×\u001b[0m \u001b[32mBuilding wheel for samplerate \u001b[0m\u001b[1;32m(\u001b[0m\u001b[32mpyproject.toml\u001b[0m\u001b[1;32m)\u001b[0m did not run successfully.\n",
            "  \u001b[31m│\u001b[0m exit code: \u001b[1;36m1\u001b[0m\n",
            "  \u001b[31m╰─>\u001b[0m See above for output.\n",
            "  \n",
            "  \u001b[1;35mnote\u001b[0m: This error originates from a subprocess, and is likely not a problem with pip.\n",
            "  Building wheel for samplerate (pyproject.toml) ... \u001b[?25l\u001b[?25herror\n",
            "\u001b[31m  ERROR: Failed building wheel for samplerate\u001b[0m\u001b[31m\n",
            "\u001b[0mFailed to build samplerate\n",
            "\u001b[31mERROR: Could not build wheels for samplerate, which is required to install pyproject.toml-based projects\u001b[0m\u001b[31m\n",
            "\u001b[0m"
          ]
        }
      ],
      "source": [
        "!pip install pyroomacoustics\n",
        "!pip install samplerate"
      ]
    },
    {
      "cell_type": "code",
      "source": [
        "import os\n",
        "import numpy as np\n",
        "import pyroomacoustics as pra\n",
        "from scipy.io import wavfile\n",
        "from scipy.signal import fftconvolve\n",
        "import matplotlib.pyplot as plt\n",
        "import librosa\n",
        "import IPython\n",
        "from IPython.display import Audio"
      ],
      "metadata": {
        "colab": {
          "base_uri": "https://localhost:8080/",
          "height": 350
        },
        "id": "AqytrvRNvbfR",
        "outputId": "325c344d-51f2-45cd-adcf-0dae17907cf6"
      },
      "execution_count": 10,
      "outputs": [
        {
          "output_type": "error",
          "ename": "ModuleNotFoundError",
          "evalue": "No module named 'samplerate'",
          "traceback": [
            "\u001b[0;31m---------------------------------------------------------------------------\u001b[0m",
            "\u001b[0;31mModuleNotFoundError\u001b[0m                       Traceback (most recent call last)",
            "\u001b[0;32m<ipython-input-10-8353d00b9381>\u001b[0m in \u001b[0;36m<cell line: 10>\u001b[0;34m()\u001b[0m\n\u001b[1;32m      8\u001b[0m \u001b[0;32mimport\u001b[0m \u001b[0mIPython\u001b[0m\u001b[0;34m\u001b[0m\u001b[0;34m\u001b[0m\u001b[0m\n\u001b[1;32m      9\u001b[0m \u001b[0;32mfrom\u001b[0m \u001b[0mIPython\u001b[0m\u001b[0;34m.\u001b[0m\u001b[0mdisplay\u001b[0m \u001b[0;32mimport\u001b[0m \u001b[0mAudio\u001b[0m\u001b[0;34m\u001b[0m\u001b[0;34m\u001b[0m\u001b[0m\n\u001b[0;32m---> 10\u001b[0;31m \u001b[0;32mimport\u001b[0m \u001b[0msamplerate\u001b[0m\u001b[0;34m\u001b[0m\u001b[0;34m\u001b[0m\u001b[0m\n\u001b[0m",
            "\u001b[0;31mModuleNotFoundError\u001b[0m: No module named 'samplerate'",
            "",
            "\u001b[0;31m---------------------------------------------------------------------------\u001b[0;32m\nNOTE: If your import is failing due to a missing package, you can\nmanually install dependencies using either !pip or !apt.\n\nTo view examples of installing some common dependencies, click the\n\"Open Examples\" button below.\n\u001b[0;31m---------------------------------------------------------------------------\u001b[0m\n"
          ],
          "errorDetails": {
            "actions": [
              {
                "action": "open_url",
                "actionText": "Open Examples",
                "url": "/notebooks/snippets/importing_libraries.ipynb"
              }
            ]
          }
        }
      ]
    },
    {
      "cell_type": "markdown",
      "source": [
        "# SOURCE GENERATION"
      ],
      "metadata": {
        "id": "yOj8q6mY2DH3"
      }
    },
    {
      "cell_type": "code",
      "source": [
        "# Load the audio file\n",
        "fs, voice1 = wavfile.read(\"arctic_a0010.wav\")\n",
        "\n",
        "# Normalize the audio signal\n",
        "voice1 = voice1 / abs(voice1).max()\n",
        "\n",
        "# Listen to the normalized audio\n",
        "Audio(voice1, rate=fs)"
      ],
      "metadata": {
        "id": "WPs68VJG2Bw1"
      },
      "execution_count": null,
      "outputs": []
    },
    {
      "cell_type": "code",
      "source": [
        "# Plot the waveform\n",
        "plt.figure(figsize=(12, 6))\n",
        "plt.subplot(3, 1, 1)\n",
        "plt.plot(np.arange(len(voice1)) / fs, voice1)\n",
        "plt.title('Waveform')\n",
        "plt.xlabel('Time (s)')\n",
        "plt.ylabel('Amplitude')\n",
        "\n",
        "# Plot the spectrogram\n",
        "plt.subplot(3, 1, 2)\n",
        "plt.specgram(voice1, Fs=fs, cmap='viridis')\n",
        "plt.title('Spectrogram')\n",
        "plt.xlabel('Time (s)')\n",
        "plt.ylabel('Frequency (Hz)')\n",
        "\n",
        "# Plot the histogram\n",
        "plt.subplot(3, 1, 3)\n",
        "plt.hist(voice1, bins=100)\n",
        "plt.title('Histogram')\n",
        "plt.xlabel('Amplitude')\n",
        "plt.ylabel('Frequency')\n",
        "\n",
        "plt.tight_layout()\n",
        "plt.show()"
      ],
      "metadata": {
        "id": "8hmxpORSfP46"
      },
      "execution_count": null,
      "outputs": []
    },
    {
      "cell_type": "code",
      "source": [
        "# Generate colored noise with the same length as the audio file\n",
        "noise = np.random.randn(len(voice1))\n",
        "\n",
        "# Normalize the audio signal\n",
        "noise = noise / abs(voice1).max()\n",
        "\n",
        "# Listen to the colored noise\n",
        "Audio(noise, rate=fs)"
      ],
      "metadata": {
        "id": "Rvv16dHDcpLz"
      },
      "execution_count": null,
      "outputs": []
    },
    {
      "cell_type": "code",
      "source": [
        "# Plot the waveform\n",
        "plt.figure(figsize=(12, 6))\n",
        "plt.subplot(3, 1, 1)\n",
        "plt.plot(np.arange(len(noise)) / fs, noise)\n",
        "plt.title('Waveform')\n",
        "plt.xlabel('Time (s)')\n",
        "plt.ylabel('Amplitude')\n",
        "\n",
        "# Plot the spectrogram\n",
        "plt.subplot(3, 1, 2)\n",
        "plt.specgram(noise, Fs=fs, cmap='viridis')\n",
        "plt.title('Spectrogram')\n",
        "plt.xlabel('Time (s)')\n",
        "plt.ylabel('Frequency (Hz)')\n",
        "\n",
        "# Plot the histogram\n",
        "plt.subplot(3, 1, 3)\n",
        "plt.hist(noise, bins=100)\n",
        "plt.title('Histogram')\n",
        "plt.xlabel('Amplitude')\n",
        "plt.ylabel('Frequency')\n",
        "\n",
        "plt.tight_layout()\n",
        "plt.show()"
      ],
      "metadata": {
        "id": "6Cfgm1_mf_71"
      },
      "execution_count": null,
      "outputs": []
    },
    {
      "cell_type": "markdown",
      "source": [
        "# ROOM CREATION"
      ],
      "metadata": {
        "id": "zKShGL-5yAaH"
      }
    },
    {
      "cell_type": "code",
      "source": [
        "# Define the corners of a 2D room as an array of (x, y) coordinates\n",
        "corners = np.array([[0,0], [0,3], [5,3], [5,1], [3,1], [3,0]]).T  # [x,y]\n",
        "\n",
        "# Create a 2D room object from the given corners\n",
        "# max_order: Maximum reflection order for ray tracing\n",
        "# materials: Defines the acoustic properties of the walls (absorption coefficient, reflection coefficient)\n",
        "room = pra.Room.from_corners(corners, max_order=3, materials=pra.Material(0.2, 0.15), ray_tracing=True, air_absorption=True)\n",
        "\n",
        "# Set the parameters for ray tracing\n",
        "# receiver_radius: Radius of the receiver for computing the visibility polygon\n",
        "# n_rays: Number of rays to use for ray tracing\n",
        "# energy_thres: Threshold energy for ray termination\n",
        "room.set_ray_tracing(receiver_radius=0.5, n_rays=10000, energy_thres=1e-5)\n",
        "\n",
        "# Extrude the 2D room to create a 3D room with a specified height\n",
        "# materials: Defines the acoustic properties of the walls in 3D (absorption coefficient, reflection coefficient)\n",
        "room.extrude(3., materials=pra.Material(0.2, 0.15))\n",
        "\n",
        "# Plot the room\n",
        "fig, ax = room.plot()\n",
        "ax.set_xlim([0, 5])  # Set x-axis limits\n",
        "ax.set_ylim([0, 5])  # Set y-axis limits\n",
        "ax.set_zlim([0, 4])  # Set z-axis limits\n",
        "ax.set_xlabel('X')  # Label for x-axis\n",
        "ax.set_ylabel('Y')  # Label for y-axis\n",
        "ax.set_zlabel('Z')  # Label for z-axis"
      ],
      "metadata": {
        "id": "YYOyFFE0xq3e"
      },
      "execution_count": null,
      "outputs": []
    },
    {
      "cell_type": "code",
      "source": [
        "# Define the location of sources within the room\n",
        "source1_loc = [1., 1., 1.]\n",
        "source2_loc = [1., 2., 1.]\n",
        "\n",
        "# Add source 1 to the room with a specified signal (voice1)\n",
        "room.add_source(source1_loc, signal=voice1)\n",
        "\n",
        "# Add source 2 to the room with a specified signal (noise)\n",
        "room.add_source(source2_loc, signal=noise)\n",
        "\n",
        "# Define the positions of two microphones in 3D space\n",
        "# Ensure each microphone position is specified in 3D (x, y, z) coordinates\n",
        "mic_positions = np.array([[3.5, 3.6], [2., 2.], [0.5,  0.5]])\n",
        "\n",
        "# Add the microphone array to the room\n",
        "room.add_microphone_array(pra.MicrophoneArray(mic_positions, fs))\n",
        "\n",
        "# Plot the room with sources and microphone array\n",
        "fig, ax = room.plot()\n",
        "\n",
        "# Set limits for the plot's x, y, and z axes\n",
        "ax.set_xlim([0, 5])  # Set x-axis limits\n",
        "ax.set_ylim([0, 5])  # Set y-axis limits\n",
        "ax.set_zlim([0, 4])  # Set z-axis limits\n",
        "\n",
        "# Label the axes for clarity\n",
        "ax.set_xlabel('X')  # Label for x-axis\n",
        "ax.set_ylabel('Y')  # Label for y-axis\n",
        "ax.set_zlabel('Z')  # Label for z-axis\n"
      ],
      "metadata": {
        "id": "57CIzaQA2PrV"
      },
      "execution_count": null,
      "outputs": []
    },
    {
      "cell_type": "code",
      "source": [
        "# Plot the room impulse response (RIR)\n",
        "room.plot_rir()\n",
        "\n",
        "# Get the current figure\n",
        "fig = plt.gcf()\n",
        "\n",
        "# Set the size of the figure for better visualization\n",
        "fig.set_size_inches(20, 10)"
      ],
      "metadata": {
        "id": "9cMWC_KGgQpq"
      },
      "execution_count": null,
      "outputs": []
    },
    {
      "cell_type": "code",
      "source": [
        "room.simulate()\n",
        "print(room.mic_array.signals.shape)"
      ],
      "metadata": {
        "id": "S5McSARYhQCC"
      },
      "execution_count": null,
      "outputs": []
    },
    {
      "cell_type": "markdown",
      "source": [
        "# Nuova sezione"
      ],
      "metadata": {
        "id": "OD4uxCqSu5cS"
      }
    }
  ]
}