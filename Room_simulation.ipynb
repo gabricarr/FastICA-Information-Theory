{
  "cells": [
    {
      "cell_type": "markdown",
      "metadata": {
        "id": "ikaVTtkJu0NT"
      },
      "source": [
        "# IMPORTING LIB"
      ]
    },
    {
      "cell_type": "code",
      "execution_count": 2,
      "metadata": {
        "colab": {
          "base_uri": "https://localhost:8080/",
          "height": 350
        },
        "id": "AqytrvRNvbfR",
        "outputId": "325c344d-51f2-45cd-adcf-0dae17907cf6"
      },
      "outputs": [
        {
          "ename": "ModuleNotFoundError",
          "evalue": "No module named 'numpy'",
          "output_type": "error",
          "traceback": [
            "\u001b[0;31m---------------------------------------------------------------------------\u001b[0m",
            "\u001b[0;31mModuleNotFoundError\u001b[0m                       Traceback (most recent call last)",
            "Cell \u001b[0;32mIn[2], line 2\u001b[0m\n\u001b[1;32m      1\u001b[0m \u001b[38;5;28;01mimport\u001b[39;00m \u001b[38;5;21;01mos\u001b[39;00m\n\u001b[0;32m----> 2\u001b[0m \u001b[38;5;28;01mimport\u001b[39;00m \u001b[38;5;21;01mnumpy\u001b[39;00m \u001b[38;5;28;01mas\u001b[39;00m \u001b[38;5;21;01mnp\u001b[39;00m\n\u001b[1;32m      3\u001b[0m \u001b[38;5;28;01mimport\u001b[39;00m \u001b[38;5;21;01mpyroomacoustics\u001b[39;00m \u001b[38;5;28;01mas\u001b[39;00m \u001b[38;5;21;01mpra\u001b[39;00m\n\u001b[1;32m      4\u001b[0m \u001b[38;5;28;01mfrom\u001b[39;00m \u001b[38;5;21;01mscipy\u001b[39;00m\u001b[38;5;21;01m.\u001b[39;00m\u001b[38;5;21;01mio\u001b[39;00m \u001b[38;5;28;01mimport\u001b[39;00m wavfile\n",
            "\u001b[0;31mModuleNotFoundError\u001b[0m: No module named 'numpy'"
          ]
        }
      ],
      "source": [
        "import os\n",
        "import numpy as np\n",
        "import pyroomacoustics as pra\n",
        "from scipy.io import wavfile\n",
        "from scipy.signal import fftconvolve\n",
        "import matplotlib.pyplot as plt\n",
        "import librosa\n",
        "import IPython\n",
        "from IPython.display import Audio"
      ]
    },
    {
      "cell_type": "markdown",
      "metadata": {
        "id": "yOj8q6mY2DH3"
      },
      "source": [
        "# SOURCE GENERATION"
      ]
    },
    {
      "cell_type": "code",
      "execution_count": null,
      "metadata": {
        "id": "WPs68VJG2Bw1"
      },
      "outputs": [],
      "source": [
        "# Load the audio file\n",
        "fs, voice1 = wavfile.read(\"arctic_a0010.wav\")\n",
        "\n",
        "# Normalize the audio signal\n",
        "voice1 = voice1 / abs(voice1).max()\n",
        "\n",
        "# Listen to the normalized audio\n",
        "Audio(voice1, rate=fs)"
      ]
    },
    {
      "cell_type": "code",
      "execution_count": null,
      "metadata": {
        "id": "8hmxpORSfP46"
      },
      "outputs": [],
      "source": [
        "# Plot the waveform\n",
        "plt.figure(figsize=(12, 6))\n",
        "plt.subplot(3, 1, 1)\n",
        "plt.plot(np.arange(len(voice1)) / fs, voice1)\n",
        "plt.title('Waveform')\n",
        "plt.xlabel('Time (s)')\n",
        "plt.ylabel('Amplitude')\n",
        "\n",
        "# Plot the spectrogram\n",
        "plt.subplot(3, 1, 2)\n",
        "plt.specgram(voice1, Fs=fs, cmap='viridis')\n",
        "plt.title('Spectrogram')\n",
        "plt.xlabel('Time (s)')\n",
        "plt.ylabel('Frequency (Hz)')\n",
        "\n",
        "# Plot the histogram\n",
        "plt.subplot(3, 1, 3)\n",
        "plt.hist(voice1, bins=100)\n",
        "plt.title('Histogram')\n",
        "plt.xlabel('Amplitude')\n",
        "plt.ylabel('Frequency')\n",
        "\n",
        "plt.tight_layout()\n",
        "plt.show()"
      ]
    },
    {
      "cell_type": "code",
      "execution_count": null,
      "metadata": {
        "id": "Rvv16dHDcpLz"
      },
      "outputs": [],
      "source": [
        "# Generate colored noise with the same length as the audio file\n",
        "noise = np.random.randn(len(voice1))\n",
        "\n",
        "# Normalize the audio signal\n",
        "noise = noise / abs(voice1).max()\n",
        "\n",
        "# Listen to the colored noise\n",
        "Audio(noise, rate=fs)"
      ]
    },
    {
      "cell_type": "code",
      "execution_count": null,
      "metadata": {
        "id": "6Cfgm1_mf_71"
      },
      "outputs": [],
      "source": [
        "# Plot the waveform\n",
        "plt.figure(figsize=(12, 6))\n",
        "plt.subplot(3, 1, 1)\n",
        "plt.plot(np.arange(len(noise)) / fs, noise)\n",
        "plt.title('Waveform')\n",
        "plt.xlabel('Time (s)')\n",
        "plt.ylabel('Amplitude')\n",
        "\n",
        "# Plot the spectrogram\n",
        "plt.subplot(3, 1, 2)\n",
        "plt.specgram(noise, Fs=fs, cmap='viridis')\n",
        "plt.title('Spectrogram')\n",
        "plt.xlabel('Time (s)')\n",
        "plt.ylabel('Frequency (Hz)')\n",
        "\n",
        "# Plot the histogram\n",
        "plt.subplot(3, 1, 3)\n",
        "plt.hist(noise, bins=100)\n",
        "plt.title('Histogram')\n",
        "plt.xlabel('Amplitude')\n",
        "plt.ylabel('Frequency')\n",
        "\n",
        "plt.tight_layout()\n",
        "plt.show()"
      ]
    },
    {
      "cell_type": "markdown",
      "metadata": {
        "id": "zKShGL-5yAaH"
      },
      "source": [
        "# ROOM CREATION"
      ]
    },
    {
      "cell_type": "code",
      "execution_count": null,
      "metadata": {
        "id": "YYOyFFE0xq3e"
      },
      "outputs": [],
      "source": [
        "# Define the corners of a 2D room as an array of (x, y) coordinates\n",
        "corners = np.array([[0,0], [0,3], [5,3], [5,1], [3,1], [3,0]]).T  # [x,y]\n",
        "\n",
        "# Create a 2D room object from the given corners\n",
        "# max_order: Maximum reflection order for ray tracing\n",
        "# materials: Defines the acoustic properties of the walls (absorption coefficient, reflection coefficient)\n",
        "room = pra.Room.from_corners(corners, max_order=3, materials=pra.Material(0.2, 0.15), ray_tracing=True, air_absorption=True)\n",
        "\n",
        "# Set the parameters for ray tracing\n",
        "# receiver_radius: Radius of the receiver for computing the visibility polygon\n",
        "# n_rays: Number of rays to use for ray tracing\n",
        "# energy_thres: Threshold energy for ray termination\n",
        "room.set_ray_tracing(receiver_radius=0.5, n_rays=10000, energy_thres=1e-5)\n",
        "\n",
        "# Extrude the 2D room to create a 3D room with a specified height\n",
        "# materials: Defines the acoustic properties of the walls in 3D (absorption coefficient, reflection coefficient)\n",
        "room.extrude(3., materials=pra.Material(0.2, 0.15))\n",
        "\n",
        "# Plot the room\n",
        "fig, ax = room.plot()\n",
        "ax.set_xlim([0, 5])  # Set x-axis limits\n",
        "ax.set_ylim([0, 5])  # Set y-axis limits\n",
        "ax.set_zlim([0, 4])  # Set z-axis limits\n",
        "ax.set_xlabel('X')  # Label for x-axis\n",
        "ax.set_ylabel('Y')  # Label for y-axis\n",
        "ax.set_zlabel('Z')  # Label for z-axis"
      ]
    },
    {
      "cell_type": "code",
      "execution_count": null,
      "metadata": {
        "id": "57CIzaQA2PrV"
      },
      "outputs": [],
      "source": [
        "# Define the location of sources within the room\n",
        "source1_loc = [1., 1., 1.]\n",
        "source2_loc = [1., 2., 1.]\n",
        "\n",
        "# Add source 1 to the room with a specified signal (voice1)\n",
        "room.add_source(source1_loc, signal=voice1)\n",
        "\n",
        "# Add source 2 to the room with a specified signal (noise)\n",
        "room.add_source(source2_loc, signal=noise)\n",
        "\n",
        "# Define the positions of two microphones in 3D space\n",
        "# Ensure each microphone position is specified in 3D (x, y, z) coordinates\n",
        "mic_positions = np.array([[3.5, 3.6], [2., 2.], [0.5,  0.5]])\n",
        "\n",
        "# Add the microphone array to the room\n",
        "room.add_microphone_array(pra.MicrophoneArray(mic_positions, fs))\n",
        "\n",
        "# Plot the room with sources and microphone array\n",
        "fig, ax = room.plot()\n",
        "\n",
        "# Set limits for the plot's x, y, and z axes\n",
        "ax.set_xlim([0, 5])  # Set x-axis limits\n",
        "ax.set_ylim([0, 5])  # Set y-axis limits\n",
        "ax.set_zlim([0, 4])  # Set z-axis limits\n",
        "\n",
        "# Label the axes for clarity\n",
        "ax.set_xlabel('X')  # Label for x-axis\n",
        "ax.set_ylabel('Y')  # Label for y-axis\n",
        "ax.set_zlabel('Z')  # Label for z-axis\n"
      ]
    },
    {
      "cell_type": "code",
      "execution_count": null,
      "metadata": {
        "id": "9cMWC_KGgQpq"
      },
      "outputs": [],
      "source": [
        "# Plot the room impulse response (RIR)\n",
        "room.plot_rir()\n",
        "\n",
        "# Get the current figure\n",
        "fig = plt.gcf()\n",
        "\n",
        "# Set the size of the figure for better visualization\n",
        "fig.set_size_inches(20, 10)"
      ]
    },
    {
      "cell_type": "code",
      "execution_count": null,
      "metadata": {
        "id": "S5McSARYhQCC"
      },
      "outputs": [],
      "source": [
        "room.simulate()\n",
        "print(room.mic_array.signals.shape)"
      ]
    },
    {
      "cell_type": "markdown",
      "metadata": {
        "id": "OD4uxCqSu5cS"
      },
      "source": [
        "# Nuova sezione"
      ]
    }
  ],
  "metadata": {
    "colab": {
      "provenance": []
    },
    "kernelspec": {
      "display_name": "Python 3",
      "name": "python3"
    },
    "language_info": {
      "codemirror_mode": {
        "name": "ipython",
        "version": 3
      },
      "file_extension": ".py",
      "mimetype": "text/x-python",
      "name": "python",
      "nbconvert_exporter": "python",
      "pygments_lexer": "ipython3",
      "version": "3.8.2"
    }
  },
  "nbformat": 4,
  "nbformat_minor": 0
}
